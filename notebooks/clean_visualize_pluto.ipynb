{
 "cells": [
  {
   "cell_type": "code",
   "execution_count": 43,
   "metadata": {
    "collapsed": false
   },
   "outputs": [],
   "source": [
    "import geopandas as gpd\n",
    "import matplotlib.pyplot as plt\n",
    "\n",
    "from scipy import stats\n",
    "import math\n",
    "import numpy as np\n",
    "\n",
    "%matplotlib inline"
   ]
  },
  {
   "cell_type": "code",
   "execution_count": 27,
   "metadata": {
    "collapsed": true
   },
   "outputs": [],
   "source": [
    "fname = 'pluto.geojson'\n",
    "df = gpd.read_file(fname)"
   ]
  },
  {
   "cell_type": "code",
   "execution_count": 28,
   "metadata": {
    "collapsed": false
   },
   "outputs": [
    {
     "data": {
      "text/html": [
       "<div>\n",
       "<style scoped>\n",
       "    .dataframe tbody tr th:only-of-type {\n",
       "        vertical-align: middle;\n",
       "    }\n",
       "\n",
       "    .dataframe tbody tr th {\n",
       "        vertical-align: top;\n",
       "    }\n",
       "\n",
       "    .dataframe thead th {\n",
       "        text-align: right;\n",
       "    }\n",
       "</style>\n",
       "<table border=\"1\" class=\"dataframe\">\n",
       "  <thead>\n",
       "    <tr style=\"text-align: right;\">\n",
       "      <th></th>\n",
       "      <th>assessland</th>\n",
       "      <th>assesstot</th>\n",
       "      <th>bbl</th>\n",
       "      <th>exemptland</th>\n",
       "      <th>exempttot</th>\n",
       "      <th>lotarea</th>\n",
       "      <th>geometry</th>\n",
       "    </tr>\n",
       "  </thead>\n",
       "  <tbody>\n",
       "    <tr>\n",
       "      <th>0</th>\n",
       "      <td>2581650</td>\n",
       "      <td>4978350</td>\n",
       "      <td>1014140001</td>\n",
       "      <td>0</td>\n",
       "      <td>0</td>\n",
       "      <td>1607</td>\n",
       "      <td>(POLYGON ((-73.96613000000001 40.761447, -73.9...</td>\n",
       "    </tr>\n",
       "    <tr>\n",
       "      <th>1</th>\n",
       "      <td>1111500</td>\n",
       "      <td>8326800</td>\n",
       "      <td>1001750033</td>\n",
       "      <td>0</td>\n",
       "      <td>0</td>\n",
       "      <td>7532</td>\n",
       "      <td>(POLYGON ((-74.003488 40.717669, -74.003596 40...</td>\n",
       "    </tr>\n",
       "    <tr>\n",
       "      <th>2</th>\n",
       "      <td>0</td>\n",
       "      <td>0</td>\n",
       "      <td>1001760015</td>\n",
       "      <td>0</td>\n",
       "      <td>0</td>\n",
       "      <td>0</td>\n",
       "      <td>(POLYGON ((-74.00702 40.71777, -74.006987 40.7...</td>\n",
       "    </tr>\n",
       "    <tr>\n",
       "      <th>3</th>\n",
       "      <td>208350</td>\n",
       "      <td>636750</td>\n",
       "      <td>1002020030</td>\n",
       "      <td>0</td>\n",
       "      <td>0</td>\n",
       "      <td>2000</td>\n",
       "      <td>(POLYGON ((-73.99670999999999 40.715512, -73.9...</td>\n",
       "    </tr>\n",
       "    <tr>\n",
       "      <th>4</th>\n",
       "      <td>450</td>\n",
       "      <td>450</td>\n",
       "      <td>1002250118</td>\n",
       "      <td>450</td>\n",
       "      <td>450</td>\n",
       "      <td>105</td>\n",
       "      <td>(POLYGON ((-74.008099 40.723635, -74.008162 40...</td>\n",
       "    </tr>\n",
       "  </tbody>\n",
       "</table>\n",
       "</div>"
      ],
      "text/plain": [
       "   assessland  assesstot         bbl  exemptland  exempttot  lotarea  \\\n",
       "0     2581650    4978350  1014140001           0          0     1607   \n",
       "1     1111500    8326800  1001750033           0          0     7532   \n",
       "2           0          0  1001760015           0          0        0   \n",
       "3      208350     636750  1002020030           0          0     2000   \n",
       "4         450        450  1002250118         450        450      105   \n",
       "\n",
       "                                            geometry  \n",
       "0  (POLYGON ((-73.96613000000001 40.761447, -73.9...  \n",
       "1  (POLYGON ((-74.003488 40.717669, -74.003596 40...  \n",
       "2  (POLYGON ((-74.00702 40.71777, -74.006987 40.7...  \n",
       "3  (POLYGON ((-73.99670999999999 40.715512, -73.9...  \n",
       "4  (POLYGON ((-74.008099 40.723635, -74.008162 40...  "
      ]
     },
     "execution_count": 28,
     "metadata": {},
     "output_type": "execute_result"
    }
   ],
   "source": [
    "df.head()"
   ]
  },
  {
   "cell_type": "markdown",
   "metadata": {},
   "source": [
    "### Definitions of Tax Terms: https://www1.nyc.gov/site/finance/taxes/property-assessments.page"
   ]
  },
  {
   "cell_type": "code",
   "execution_count": 30,
   "metadata": {
    "collapsed": false
   },
   "outputs": [
    {
     "name": "stdout",
     "output_type": "stream",
     "text": [
      "145900\n",
      "144995\n"
     ]
    }
   ],
   "source": [
    "print(len(df))\n",
    "df = df[df['lotarea'] != 0]\n",
    "print(len(df))\n",
    "df['assestotperarea'] = df['assesstot'] / df['lotarea']"
   ]
  },
  {
   "cell_type": "code",
   "execution_count": 31,
   "metadata": {
    "collapsed": false,
    "scrolled": true
   },
   "outputs": [
    {
     "data": {
      "text/html": [
       "<div>\n",
       "<style scoped>\n",
       "    .dataframe tbody tr th:only-of-type {\n",
       "        vertical-align: middle;\n",
       "    }\n",
       "\n",
       "    .dataframe tbody tr th {\n",
       "        vertical-align: top;\n",
       "    }\n",
       "\n",
       "    .dataframe thead th {\n",
       "        text-align: right;\n",
       "    }\n",
       "</style>\n",
       "<table border=\"1\" class=\"dataframe\">\n",
       "  <thead>\n",
       "    <tr style=\"text-align: right;\">\n",
       "      <th></th>\n",
       "      <th>assessland</th>\n",
       "      <th>assesstot</th>\n",
       "      <th>bbl</th>\n",
       "      <th>exemptland</th>\n",
       "      <th>exempttot</th>\n",
       "      <th>lotarea</th>\n",
       "      <th>geometry</th>\n",
       "      <th>assestotperarea</th>\n",
       "    </tr>\n",
       "  </thead>\n",
       "  <tbody>\n",
       "    <tr>\n",
       "      <th>0</th>\n",
       "      <td>2581650</td>\n",
       "      <td>4978350</td>\n",
       "      <td>1014140001</td>\n",
       "      <td>0</td>\n",
       "      <td>0</td>\n",
       "      <td>1607</td>\n",
       "      <td>(POLYGON ((-73.96613000000001 40.761447, -73.9...</td>\n",
       "      <td>3097.915370</td>\n",
       "    </tr>\n",
       "    <tr>\n",
       "      <th>1</th>\n",
       "      <td>1111500</td>\n",
       "      <td>8326800</td>\n",
       "      <td>1001750033</td>\n",
       "      <td>0</td>\n",
       "      <td>0</td>\n",
       "      <td>7532</td>\n",
       "      <td>(POLYGON ((-74.003488 40.717669, -74.003596 40...</td>\n",
       "      <td>1105.523101</td>\n",
       "    </tr>\n",
       "    <tr>\n",
       "      <th>3</th>\n",
       "      <td>208350</td>\n",
       "      <td>636750</td>\n",
       "      <td>1002020030</td>\n",
       "      <td>0</td>\n",
       "      <td>0</td>\n",
       "      <td>2000</td>\n",
       "      <td>(POLYGON ((-73.99670999999999 40.715512, -73.9...</td>\n",
       "      <td>318.375000</td>\n",
       "    </tr>\n",
       "    <tr>\n",
       "      <th>4</th>\n",
       "      <td>450</td>\n",
       "      <td>450</td>\n",
       "      <td>1002250118</td>\n",
       "      <td>450</td>\n",
       "      <td>450</td>\n",
       "      <td>105</td>\n",
       "      <td>(POLYGON ((-74.008099 40.723635, -74.008162 40...</td>\n",
       "      <td>4.285714</td>\n",
       "    </tr>\n",
       "    <tr>\n",
       "      <th>5</th>\n",
       "      <td>735750</td>\n",
       "      <td>872100</td>\n",
       "      <td>1000020003</td>\n",
       "      <td>735750</td>\n",
       "      <td>872100</td>\n",
       "      <td>38800</td>\n",
       "      <td>(POLYGON ((-74.01105800000001 40.70091, -74.01...</td>\n",
       "      <td>22.476804</td>\n",
       "    </tr>\n",
       "  </tbody>\n",
       "</table>\n",
       "</div>"
      ],
      "text/plain": [
       "   assessland  assesstot         bbl  exemptland  exempttot  lotarea  \\\n",
       "0     2581650    4978350  1014140001           0          0     1607   \n",
       "1     1111500    8326800  1001750033           0          0     7532   \n",
       "3      208350     636750  1002020030           0          0     2000   \n",
       "4         450        450  1002250118         450        450      105   \n",
       "5      735750     872100  1000020003      735750     872100    38800   \n",
       "\n",
       "                                            geometry  assestotperarea  \n",
       "0  (POLYGON ((-73.96613000000001 40.761447, -73.9...      3097.915370  \n",
       "1  (POLYGON ((-74.003488 40.717669, -74.003596 40...      1105.523101  \n",
       "3  (POLYGON ((-73.99670999999999 40.715512, -73.9...       318.375000  \n",
       "4  (POLYGON ((-74.008099 40.723635, -74.008162 40...         4.285714  \n",
       "5  (POLYGON ((-74.01105800000001 40.70091, -74.01...        22.476804  "
      ]
     },
     "execution_count": 31,
     "metadata": {},
     "output_type": "execute_result"
    }
   ],
   "source": [
    "df.head()"
   ]
  },
  {
   "cell_type": "code",
   "execution_count": 59,
   "metadata": {
    "collapsed": false
   },
   "outputs": [
    {
     "data": {
      "text/plain": [
       "142587"
      ]
     },
     "execution_count": 59,
     "metadata": {},
     "output_type": "execute_result"
    }
   ],
   "source": [
    "df = df[(np.abs(stats.zscore(df['assestotperarea'])) < 3)]"
   ]
  },
  {
   "cell_type": "code",
   "execution_count": 61,
   "metadata": {
    "collapsed": false
   },
   "outputs": [],
   "source": [
    "df.to_file(filename='cleaned_pluto',driver='GeoJSON')"
   ]
  },
  {
   "cell_type": "code",
   "execution_count": null,
   "metadata": {
    "collapsed": true
   },
   "outputs": [],
   "source": []
  },
  {
   "cell_type": "code",
   "execution_count": null,
   "metadata": {
    "collapsed": true
   },
   "outputs": [],
   "source": []
  },
  {
   "cell_type": "code",
   "execution_count": null,
   "metadata": {
    "collapsed": true
   },
   "outputs": [],
   "source": []
  },
  {
   "cell_type": "code",
   "execution_count": 34,
   "metadata": {
    "collapsed": false
   },
   "outputs": [
    {
     "data": {
      "text/plain": [
       "count    1.449950e+05\n",
       "mean     1.945525e+02\n",
       "std      8.192654e+03\n",
       "min      0.000000e+00\n",
       "25%      1.421147e+01\n",
       "50%      2.421900e+01\n",
       "75%      1.238800e+02\n",
       "max      2.545653e+06\n",
       "Name: assestotperarea, dtype: float64"
      ]
     },
     "execution_count": 34,
     "metadata": {},
     "output_type": "execute_result"
    }
   ],
   "source": [
    "taxperarea = df['assestotperarea']\n",
    "taxperarea.describe()"
   ]
  },
  {
   "cell_type": "code",
   "execution_count": 56,
   "metadata": {
    "collapsed": false
   },
   "outputs": [
    {
     "data": {
      "text/plain": [
       "(array([ 101123.,   12092.,    7374.,    4953.,    3744.,    2906.,\n",
       "           2230.,    1731.,    1286.,     992.]),\n",
       " array([   0.        ,   79.30041152,  158.60082305,  237.90123457,\n",
       "         317.20164609,  396.50205761,  475.80246914,  555.10288066,\n",
       "         634.40329218,  713.7037037 ,  793.00411523]),\n",
       " <a list of 10 Patch objects>)"
      ]
     },
     "execution_count": 56,
     "metadata": {},
     "output_type": "execute_result"
    },
    {
     "data": {
      "image/png": "[encoded data removed]",
      "text/plain": [
       "<matplotlib.figure.Figure at 0x118067850>"
      ]
     },
     "metadata": {},
     "output_type": "display_data"
    }
   ],
   "source": [
    "taxperarea = taxperarea[(np.abs(stats.zscore(taxperarea)) < 3)]\n",
    "plot.hist(taxperarea)"
   ]
  },
  {
   "cell_type": "code",
   "execution_count": null,
   "metadata": {
    "collapsed": true
   },
   "outputs": [],
   "source": []
  }
 ],
 "metadata": {
  "anaconda-cloud": {},
  "kernelspec": {
   "display_name": "Python 2",
   "language": "python",
   "name": "python2"
  },
  "language_info": {
   "codemirror_mode": {
    "name": "ipython",
    "version": 2
   },
   "file_extension": ".py",
   "mimetype": "text/x-python",
   "name": "python",
   "nbconvert_exporter": "python",
   "pygments_lexer": "ipython2",
   "version": "2.7.9"
  }
 },
 "nbformat": 4,
 "nbformat_minor": 0
}
